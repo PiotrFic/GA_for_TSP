{
 "cells": [
  {
   "cell_type": "markdown",
   "metadata": {
    "id": "eREt0w1lQ_uE"
   },
   "source": [
    "# Simple genetic algorithm for TSP"
   ]
  },
  {
   "cell_type": "markdown",
   "metadata": {
    "id": "M10Bri3cRO8p"
   },
   "source": [
    "This is simple GA for TSPs from TSPLIB (http://elib.zib.de/pub/mp-testdata/tsp/tsplib/tsplib.html). \n",
    "\n",
    "Things to do:\n",
    "- add new selection operators: tournament without return, roulette and rank selection \n",
    "- add new mutation operators: RSM, PSM and RSM/PSM hybrid\n",
    "- add new cross-ver operators: EAX, Edge-3, OX2, POS, CX2\n",
    "- add methods of population evaluation: population diversity, convergence rate\n",
    "- apply elitism after end evaluation (10% of the worst individuals generated are replaced by the best current parents)"
   ]
  },
  {
   "cell_type": "code",
   "execution_count": 90,
   "metadata": {
    "executionInfo": {
     "elapsed": 342,
     "status": "ok",
     "timestamp": 1656607043769,
     "user": {
      "displayName": "Piotr Fic",
      "userId": "06214844652027951335"
     },
     "user_tz": -120
    },
    "id": "M7oKn2e7YRSi"
   },
   "outputs": [],
   "source": [
    "import random\n",
    "from datetime import datetime\n",
    "import os"
   ]
  },
  {
   "cell_type": "markdown",
   "metadata": {
    "id": "dHGxMYKfYj6x"
   },
   "source": [
    "## Additional functions"
   ]
  },
  {
   "cell_type": "markdown",
   "metadata": {
    "id": "KUEw_8F5IEBL"
   },
   "source": [
    "### Dynamic parameters"
   ]
  },
  {
   "cell_type": "code",
   "execution_count": 91,
   "metadata": {
    "executionInfo": {
     "elapsed": 21,
     "status": "ok",
     "timestamp": 1656607044120,
     "user": {
      "displayName": "Piotr Fic",
      "userId": "06214844652027951335"
     },
     "user_tz": -120
    },
    "id": "OZlbwMuFG2Gb"
   },
   "outputs": [],
   "source": [
    "def dynamic_params_1(param):\n",
    "    param_list = None\n",
    "    if type(param) == list:\n",
    "        param_list = param\n",
    "        param = param_list[0]\n",
    "    return param, param_list\n",
    "\n",
    "def dynamic_params_2(param, params_list, i, num_of_iterations, to_int):\n",
    "    if params_list != None:\n",
    "        if params_list[0] < params_list[1]: \n",
    "            param = params_list[0] + (i/num_of_iterations) * (params_list[1] - params_list[0])\n",
    "        else: \n",
    "            param = params_list[0] - (i/num_of_iterations) * (params_list[0] - params_list[1])\n",
    "    if to_int:\n",
    "        return int(round(param, 0))\n",
    "    else:\n",
    "        return param"
   ]
  },
  {
   "cell_type": "markdown",
   "metadata": {
    "id": "RHBtZ9khakob"
   },
   "source": [
    "### Euc2D to matrix transformation"
   ]
  },
  {
   "cell_type": "code",
   "execution_count": 92,
   "metadata": {
    "executionInfo": {
     "elapsed": 21,
     "status": "ok",
     "timestamp": 1656607044122,
     "user": {
      "displayName": "Piotr Fic",
      "userId": "06214844652027951335"
     },
     "user_tz": -120
    },
    "id": "fhHft5pMajoo"
   },
   "outputs": [],
   "source": [
    "def EUC_2D_to_matrix(file_path):    \n",
    "    file_list = open(file_path).readlines()\n",
    "    file_name = file_path.split('/')[-1].split('.')[0]\n",
    "    x_list, y_list = [], []\n",
    "    for line in file_list:\n",
    "        if line.split()[0].isdigit():\n",
    "            node, x, y = line.split()\n",
    "            x_list.append(float(x))\n",
    "            y_list.append(float(y))\n",
    "        elif line.split()[0] == 'EOF':\n",
    "            break\n",
    "\n",
    "    fhand = open('data/matrices/' + file_name, 'a')\n",
    "    fhand.write(str(len(x_list)) + '\\n')\n",
    "    for i in range(len(x_list)):\n",
    "        for j in range(len(x_list)):\n",
    "            xd = x_list[i] - x_list[j]\n",
    "            yd = y_list[i] - y_list[j]\n",
    "            dist_ij = int(round((xd**2 + yd**2)**0.5, 0))\n",
    "            fhand.write(str(dist_ij) + ' ')\n",
    "            if i == j:\n",
    "                break\n",
    "        fhand.write('\\n')\n",
    "    fhand.close()\n",
    "\n",
    "# path_name = 'data/coords'\n",
    "# files_listed = [fname for fname in os.listdir(path_name) if os.path.isfile(os.path.join(path_name, fname))]\n",
    "# results = None\n",
    "# for fname in files_listed:\n",
    "#     EUC_2D_to_matrix(path_name + '/' + fname)"
   ]
  },
  {
   "cell_type": "markdown",
   "metadata": {
    "id": "9s7QoTb3b8EK"
   },
   "source": [
    "### Load distance matrix"
   ]
  },
  {
   "cell_type": "code",
   "execution_count": 93,
   "metadata": {
    "executionInfo": {
     "elapsed": 21,
     "status": "ok",
     "timestamp": 1656607044124,
     "user": {
      "displayName": "Piotr Fic",
      "userId": "06214844652027951335"
     },
     "user_tz": -120
    },
    "id": "gkXjBsAEZ6DH"
   },
   "outputs": [],
   "source": [
    "def calculate_distance_matrix(file_name):\n",
    "    lines = open(file_name).readlines()\n",
    "    num_of_cities = int(lines[0].strip())\n",
    "    matrix = [[0 for _ in range(num_of_cities)] for _ in range(num_of_cities)]\n",
    "    \n",
    "    i_line = 0\n",
    "    for line in lines[1:]: \n",
    "        row = list(map(int, line.split())) \n",
    "        for i in range(len(row)):\n",
    "            matrix[i_line][i] = row[i]\n",
    "            matrix[i][i_line] = row[i]\n",
    "        i_line += 1\n",
    "    return matrix"
   ]
  },
  {
   "cell_type": "markdown",
   "metadata": {
    "id": "wUWwG0DSuvkP"
   },
   "source": [
    "### Display stats"
   ]
  },
  {
   "cell_type": "code",
   "execution_count": 94,
   "metadata": {
    "executionInfo": {
     "elapsed": 23,
     "status": "ok",
     "timestamp": 1656607044127,
     "user": {
      "displayName": "Piotr Fic",
      "userId": "06214844652027951335"
     },
     "user_tz": -120
    },
    "id": "mLAB-yo1uz3P"
   },
   "outputs": [],
   "source": [
    "def the_best_solution(population): \n",
    "    return min(population,key=lambda ind: ind[1])\n",
    "\n",
    "def avg_solutions(population): \n",
    "    return round(sum([ind[1] for ind in population])/len(population))"
   ]
  },
  {
   "cell_type": "markdown",
   "metadata": {
    "id": "Jn2Xw99biDcY"
   },
   "source": [
    "## Create new population"
   ]
  },
  {
   "cell_type": "code",
   "execution_count": 95,
   "metadata": {
    "executionInfo": {
     "elapsed": 22,
     "status": "ok",
     "timestamp": 1656607044129,
     "user": {
      "displayName": "Piotr Fic",
      "userId": "06214844652027951335"
     },
     "user_tz": -120
    },
    "id": "q1qbL5R6iI1t"
   },
   "outputs": [],
   "source": [
    "def new_individual(n): \n",
    "    individual = [i for i in range(n)]\n",
    "    random.shuffle(individual)\n",
    "    return individual\n",
    "\n",
    "def initialize_population(m, n): \n",
    "    return [[new_individual(n), -1] for _ in range(m)]"
   ]
  },
  {
   "cell_type": "markdown",
   "metadata": {
    "id": "V-uHKRVsrppM"
   },
   "source": [
    "## Fitness function"
   ]
  },
  {
   "cell_type": "code",
   "execution_count": 96,
   "metadata": {
    "executionInfo": {
     "elapsed": 493,
     "status": "ok",
     "timestamp": 1656607044601,
     "user": {
      "displayName": "Piotr Fic",
      "userId": "06214844652027951335"
     },
     "user_tz": -120
    },
    "id": "rPQ7xK8VmxyX"
   },
   "outputs": [],
   "source": [
    "def calculate_fitness(individual, d_matrix):\n",
    "    sum_dist = 0\n",
    "    ind = individual[0] \n",
    "    for i in range(len(ind)-1): \n",
    "        sum_dist += d_matrix[ind[i]][ind[i+1]] \n",
    "    \n",
    "    sum_dist += d_matrix[ind[-1]][ind[0]] \n",
    "\n",
    "    individual[1] = sum_dist \n",
    "\n",
    "def evaluate_population(population, distance_matrix):\n",
    "    for individual in population:\n",
    "        calculate_fitness(individual, distance_matrix)"
   ]
  },
  {
   "cell_type": "markdown",
   "metadata": {
    "id": "K_SWG69yyGRO"
   },
   "source": [
    "## Genetic operators"
   ]
  },
  {
   "cell_type": "markdown",
   "metadata": {
    "id": "nZPfN9tCyNmU"
   },
   "source": [
    "### Selection"
   ]
  },
  {
   "cell_type": "markdown",
   "metadata": {
    "id": "ImA3hRkphXCr"
   },
   "source": [
    "#### Tournament selection with return"
   ]
  },
  {
   "cell_type": "code",
   "execution_count": 97,
   "metadata": {
    "executionInfo": {
     "elapsed": 53,
     "status": "ok",
     "timestamp": 1656607044603,
     "user": {
      "displayName": "Piotr Fic",
      "userId": "06214844652027951335"
     },
     "user_tz": -120
    },
    "id": "6mGsM01ZyKQd"
   },
   "outputs": [],
   "source": [
    "def select_individual(population, k):\n",
    "    rand_index = random.randint(0,len(population)-1)\n",
    "    min_individual = population[rand_index]\n",
    "\n",
    "    for _ in range(k-1):\n",
    "        rand_index = random.randint(0,len(population)-1)\n",
    "    if min_individual[1] > population[rand_index][1]:\n",
    "        min_individual = population[rand_index]\n",
    "\n",
    "    return min_individual\n",
    "\n",
    "def selection_tournament(population, k):\n",
    "    new_pop = [] \n",
    "\n",
    "    for _ in range(len(population)):\n",
    "        sel_ind = select_individual(population, k)\n",
    "        copy_sel_ind = [sel_ind[0][:],sel_ind[1]]\n",
    "        new_pop.append(copy_sel_ind)\n",
    "\n",
    "    return new_pop"
   ]
  },
  {
   "cell_type": "markdown",
   "metadata": {
    "id": "cyVz-y0_104l"
   },
   "source": [
    "### Mutation"
   ]
  },
  {
   "cell_type": "markdown",
   "metadata": {
    "id": "s_nY3u5hhfsk"
   },
   "source": [
    "#### Inversion mutation"
   ]
  },
  {
   "cell_type": "code",
   "execution_count": 98,
   "metadata": {
    "executionInfo": {
     "elapsed": 52,
     "status": "ok",
     "timestamp": 1656607044606,
     "user": {
      "displayName": "Piotr Fic",
      "userId": "06214844652027951335"
     },
     "user_tz": -120
    },
    "id": "jlNJWzjChfJb"
   },
   "outputs": [],
   "source": [
    "def mutation_inversion(population, probability): \n",
    "    for individual in population:\n",
    "        if random.random() < probability:\n",
    "            gene = individual[0]\n",
    "            cutting_point_1 = random.randint(0,len(gene)-1)\n",
    "            cutting_point_2 = random.randint(cutting_point_1+1,len(gene))\n",
    "            gene[cutting_point_1:cutting_point_2] = gene[cutting_point_1:cutting_point_2][::-1]"
   ]
  },
  {
   "cell_type": "markdown",
   "metadata": {
    "id": "xFbW503ahgE9"
   },
   "source": [
    "#### Exchange mutation"
   ]
  },
  {
   "cell_type": "code",
   "execution_count": 99,
   "metadata": {
    "executionInfo": {
     "elapsed": 47,
     "status": "ok",
     "timestamp": 1656607044607,
     "user": {
      "displayName": "Piotr Fic",
      "userId": "06214844652027951335"
     },
     "user_tz": -120
    },
    "id": "4Ayq_uI015E2"
   },
   "outputs": [],
   "source": [
    "def mutation_exchange(population, probability):\n",
    "    for individual in population:\n",
    "        if random.random() < probability:\n",
    "            gene = individual[0]\n",
    "            index_1 = random.randint(0,len(gene)-1)\n",
    "            index_2 = random.randint(0,len(gene)-1)\n",
    "            if index_1 != index_2:\n",
    "                gene[index_1], gene[index_2] = gene[index_2], gene[index_1]"
   ]
  },
  {
   "cell_type": "markdown",
   "metadata": {
    "id": "UkaeVpNSc-Ca"
   },
   "source": [
    "#### Displacement mutation (with probability of inversion)"
   ]
  },
  {
   "cell_type": "code",
   "execution_count": 100,
   "metadata": {
    "executionInfo": {
     "elapsed": 43,
     "status": "ok",
     "timestamp": 1656607044609,
     "user": {
      "displayName": "Piotr Fic",
      "userId": "06214844652027951335"
     },
     "user_tz": -120
    },
    "id": "4fagan-EdKhR"
   },
   "outputs": [],
   "source": [
    "def mutation_displacement(population, probability): \n",
    "    for individual in population:\n",
    "        if random.random() < probability: \n",
    "            gene = individual[0]\n",
    "            cutting_point_1 = random.randint(0, len(gene)-1)\n",
    "            cutting_point_2 = random.randint(cutting_point_1+1, len(gene))\n",
    "            inversion = random.randint(0, 1)\n",
    "            if inversion:\n",
    "                gene_piece = gene[cutting_point_1:cutting_point_2][::-1]\n",
    "            else:\n",
    "                gene_piece = gene[cutting_point_1:cutting_point_2]\n",
    "\n",
    "            gene_temp = gene[:cutting_point_1] + gene[cutting_point_2:]\n",
    "            insert_point = random.randint(0, len(gene_temp))\n",
    "            if insert_point == cutting_point_1:\n",
    "                insert_point -= 1\n",
    "                \n",
    "            gene = gene_temp[:insert_point] + gene_piece + gene_temp[insert_point:]\n",
    "            individual[0] = gene"
   ]
  },
  {
   "cell_type": "markdown",
   "metadata": {
    "id": "ob0P2RiZyr6E"
   },
   "source": [
    "#### Scramble mutation"
   ]
  },
  {
   "cell_type": "code",
   "execution_count": 101,
   "metadata": {
    "executionInfo": {
     "elapsed": 38,
     "status": "ok",
     "timestamp": 1656607044609,
     "user": {
      "displayName": "Piotr Fic",
      "userId": "06214844652027951335"
     },
     "user_tz": -120
    },
    "id": "KvuYofP9yxLp"
   },
   "outputs": [],
   "source": [
    "def mutation_scramble(population, probability):\n",
    "    for individual in population:\n",
    "        if random.random()<probability: \n",
    "            gene = individual[0]\n",
    "            cp_1 = random.randint(0,len(gene)-3)\n",
    "            cp_2 = random.randint(cp_1+3,len(gene))\n",
    "            gene_slice = gene[cp_1:cp_2]\n",
    "            random.shuffle(gene_slice)\n",
    "            gene[cp_1:cp_2] = gene_slice"
   ]
  },
  {
   "cell_type": "markdown",
   "metadata": {
    "id": "QR6sXCBeYeMq"
   },
   "source": [
    "#### SBM (Select Best Mutation)"
   ]
  },
  {
   "cell_type": "code",
   "execution_count": 102,
   "metadata": {
    "executionInfo": {
     "elapsed": 38,
     "status": "ok",
     "timestamp": 1656607044611,
     "user": {
      "displayName": "Piotr Fic",
      "userId": "06214844652027951335"
     },
     "user_tz": -120
    },
    "id": "LV29evPV492l"
   },
   "outputs": [],
   "source": [
    "def mutation_select_best(population, probability, distance_matrix):\n",
    "    for individual in population:\n",
    "        if random.random() < probability:\n",
    "            ind_IM = individual.copy()\n",
    "            ind_EM = individual.copy()\n",
    "            ind_DM = individual.copy()\n",
    "            ind_SM = individual.copy()\n",
    "\n",
    "            results = {}\n",
    "\n",
    "            mutation_inversion([ind_IM], 1)\n",
    "            calculate_fitness(ind_IM, distance_matrix)\n",
    "            results[ind_IM[1]] = ind_IM\n",
    "\n",
    "            mutation_exchange([ind_EM], 1)\n",
    "            calculate_fitness(ind_EM, distance_matrix)\n",
    "            results[ind_EM[1]] = ind_EM\n",
    "\n",
    "            mutation_displacement([ind_DM], 1)\n",
    "            calculate_fitness(ind_DM, distance_matrix)\n",
    "            results[ind_DM[1]] = ind_DM\n",
    "\n",
    "            mutation_scramble([ind_SM], 1)\n",
    "            calculate_fitness(ind_SM, distance_matrix)\n",
    "            results[ind_SM[1]] = ind_SM\n",
    "\n",
    "            min_key = min(results, key = results.get)\n",
    "            individual = results[min_key]"
   ]
  },
  {
   "cell_type": "markdown",
   "metadata": {
    "id": "DQaVs8d4dbUm"
   },
   "source": [
    "#### SAM (Select Any Mutation)"
   ]
  },
  {
   "cell_type": "code",
   "execution_count": 103,
   "metadata": {
    "executionInfo": {
     "elapsed": 34,
     "status": "ok",
     "timestamp": 1656607044611,
     "user": {
      "displayName": "Piotr Fic",
      "userId": "06214844652027951335"
     },
     "user_tz": -120
    },
    "id": "KBUGlahGdk1v"
   },
   "outputs": [],
   "source": [
    "def mutation_select_any(population, probability, distance_matrix):\n",
    "    for individual in population:\n",
    "        if random.random() < probability:\n",
    "            mut_op = random.choice(['IM','EM','DM','SM'])\n",
    "            if mut_op == 'IM':\n",
    "                mutation_inversion([individual], 1)\n",
    "            elif mut_op == 'EM':\n",
    "                mutation_exchange([individual], 1)\n",
    "            elif mut_op == 'DM':\n",
    "                mutation_displacement([individual], 1)\n",
    "            elif mut_op == 'SM':\n",
    "                mutation_scramble([individual], 1)"
   ]
  },
  {
   "cell_type": "markdown",
   "metadata": {
    "id": "1Ipi4T4z19J0"
   },
   "source": [
    "### Cross-over"
   ]
  },
  {
   "cell_type": "markdown",
   "metadata": {
    "id": "9nVNKUw0fqAx"
   },
   "source": [
    "#### PMX (Partially-Mapped Crossover)"
   ]
  },
  {
   "cell_type": "code",
   "execution_count": 104,
   "metadata": {
    "executionInfo": {
     "elapsed": 32,
     "status": "ok",
     "timestamp": 1656607044612,
     "user": {
      "displayName": "Piotr Fic",
      "userId": "06214844652027951335"
     },
     "user_tz": -120
    },
    "id": "3L3S9y6Sfy0O"
   },
   "outputs": [],
   "source": [
    "def gene_swap_PMX(parent, child, second_child, start, end, cp_1, cp_2):\n",
    "    for i in range(start,end): \n",
    "        parent_gene = parent[i] \n",
    "        while parent_gene in child[cp_1:cp_2]:\n",
    "            index = child.index(parent_gene)\n",
    "            parent_gene = second_child[index]\n",
    "        child[i] = parent_gene\n",
    "\n",
    "def crossover_PMX(population, probability):\n",
    "    new_population = []\n",
    "    for i in range(0,len(population),2): \n",
    "        parent_1 = population[i][0] \n",
    "        parent_2 = population[i+1][0] \n",
    "\n",
    "    if random.random()<probability: \n",
    "        cp_1 = random.randint(1,len(parent_1)-3)\n",
    "        cp_2 = random.randint(cp_1+1,len(parent_1)-1)\n",
    "\n",
    "        child_1 = [None for _ in range(len(parent_1))]\n",
    "        child_2 = child_1[:] \n",
    "\n",
    "        child_1[cp_1:cp_2] = parent_2[cp_1:cp_2]\n",
    "        child_2[cp_1:cp_2] = parent_1[cp_1:cp_2]\n",
    "\n",
    "        gene_swap_PMX(parent_1, child_1, child_2,0,cp_1,cp_1,cp_2) \n",
    "        gene_swap_PMX(parent_1, child_1, child_2,cp_2,len(parent_1),cp_1,cp_2) \n",
    "        gene_swap_PMX(parent_2, child_2, child_1,0,cp_1,cp_1,cp_2) \n",
    "        gene_swap_PMX(parent_2, child_2, child_1,cp_2,len(parent_1),cp_1,cp_2)\n",
    "\n",
    "        new_population.append([child_1, -1])\n",
    "        new_population.append([child_2, -1])\n",
    "\n",
    "    else: \n",
    "        new_population.append([parent_1,-1])\n",
    "        new_population.append([parent_2,-1])\n",
    "\n",
    "    return new_population"
   ]
  },
  {
   "cell_type": "markdown",
   "metadata": {
    "id": "IB8aSjfXf-JH"
   },
   "source": [
    "#### OX (Order Crossover) "
   ]
  },
  {
   "cell_type": "code",
   "execution_count": 105,
   "metadata": {
    "executionInfo": {
     "elapsed": 31,
     "status": "ok",
     "timestamp": 1656607044613,
     "user": {
      "displayName": "Piotr Fic",
      "userId": "06214844652027951335"
     },
     "user_tz": -120
    },
    "id": "5MqKBkf8gDyD"
   },
   "outputs": [],
   "source": [
    "def generate_child_OX(parent_1, parent_2, cp_1, cp_2):\n",
    "    sequence = parent_1[cp_2:] + parent_1[:cp_2] \n",
    "    gene_temp = []\n",
    "    for item in sequence:\n",
    "        if item not in parent_2[cp_1:cp_2]:\n",
    "            gene_temp.append(item)\n",
    "    return gene_temp[:cp_1] + parent_2[cp_1:cp_2] + gene_temp[cp_1:]\n",
    "\n",
    "def crossover_OX(population, probability):\n",
    "    new_population = []\n",
    "    for i in range(0,len(population),2):\n",
    "        parent_1 = population[i][0] \n",
    "        parent_2 = population[i+1][0] \n",
    "\n",
    "        if random.random()<probability: \n",
    "            cp_1 = random.randint(1,len(parent_1)-3)\n",
    "            cp_2 = random.randint(cp_1+1,len(parent_1)-1)\n",
    "\n",
    "            child_1 = generate_child_OX(parent_1, parent_2, cp_1, cp_2)\n",
    "            child_2 = generate_child_OX(parent_2, parent_1, cp_1, cp_2)\n",
    "\n",
    "            new_population.append([child_1, -1])\n",
    "            new_population.append([child_2, -1])\n",
    "\n",
    "        else: \n",
    "            new_population.append([parent_1,-1])\n",
    "            new_population.append([parent_2,-1])\n",
    "\n",
    "    return new_population"
   ]
  },
  {
   "cell_type": "markdown",
   "metadata": {
    "id": "FkkFlNHugFRs"
   },
   "source": [
    "#### CX (Cycle Crossover) "
   ]
  },
  {
   "cell_type": "code",
   "execution_count": 106,
   "metadata": {
    "executionInfo": {
     "elapsed": 33,
     "status": "ok",
     "timestamp": 1656607044616,
     "user": {
      "displayName": "Piotr Fic",
      "userId": "06214844652027951335"
     },
     "user_tz": -120
    },
    "id": "m_DQrWjs2BE2"
   },
   "outputs": [],
   "source": [
    "def crossover_CX(population, probability):\n",
    "    def create_cycle(parent_1, parent_2):\n",
    "        # first_el = random.choice([parent_1[0], parent_2[0]]) # optional random choice of parents\n",
    "        first_el = parent_1[0]\n",
    "        index = 0 \n",
    "        next_el = None\n",
    "        cycle_1, cycle_2 = [], []\n",
    "        while next_el != first_el:\n",
    "            el_p1, el_p2 = parent_1[index], parent_2[index]\n",
    "            cycle_1.append(el_p1)\n",
    "            cycle_2.append(el_p2)\n",
    "            index = parent_1.index(el_p2)\n",
    "            next_el = el_p2\n",
    "        return cycle_1, cycle_2\n",
    "         \n",
    "    def generate_child_CX(parent_1, parent_2, cycle_1, cycle_2):\n",
    "        def create_child(parent, cycle_1, cycle_2):\n",
    "            child = [None for i in range(len(parent))]\n",
    "            for i in range(len(parent)):\n",
    "                if parent[i] in cycle_1:\n",
    "                    child[i] = cycle_2[cycle_1.index(parent[i])]\n",
    "            for i in range(len(parent)):\n",
    "                if child[i] == None:\n",
    "                    child[i] = parent[i]\n",
    "            return child\n",
    "        child_1 = create_child(parent_1, cycle_1, cycle_2)\n",
    "        child_2 = create_child(parent_2, cycle_2, cycle_1)\n",
    "        return child_1, child_2\n",
    "\n",
    "    new_population = []\n",
    "    for i in range(0,len(population),2): \n",
    "        parent_1 = population[i][0] \n",
    "        parent_2 = population[i+1][0] \n",
    "\n",
    "        if random.random() < probability: \n",
    "            cycle_1, cycle_2 = create_cycle(parent_1, parent_2)\n",
    "\n",
    "            child_1, child_2 = generate_child_CX(parent_1, parent_2, cycle_1, cycle_2)\n",
    "\n",
    "            new_population.append([child_1, -1])\n",
    "            new_population.append([child_2, -1])\n",
    "\n",
    "        else: \n",
    "            new_population.append([parent_1,-1])\n",
    "            new_population.append([parent_2,-1])\n",
    "\n",
    "    return new_population"
   ]
  },
  {
   "cell_type": "markdown",
   "metadata": {
    "id": "RFX98RioD9i8"
   },
   "source": [
    "#### ER (Edge Recombination Crossover)"
   ]
  },
  {
   "cell_type": "code",
   "execution_count": 107,
   "metadata": {
    "executionInfo": {
     "elapsed": 33,
     "status": "ok",
     "timestamp": 1656607044618,
     "user": {
      "displayName": "Piotr Fic",
      "userId": "06214844652027951335"
     },
     "user_tz": -120
    },
    "id": "LRFn3jJCESDa"
   },
   "outputs": [],
   "source": [
    "def create_edge_map(parent_1, parent_2):\n",
    "    def neighbour_list(parent):\n",
    "        n_dict = {} \n",
    "        for i in range(len(parent)-1):\n",
    "            n_dict[parent[i]] = [parent[i-1], parent[i+1]]\n",
    "        n_dict[parent[-1]] = [parent[-2], parent[0]]\n",
    "        return n_dict\n",
    "            \n",
    "    n_dict_1 = neighbour_list(parent_1)\n",
    "    n_dict_2 = neighbour_list(parent_2)\n",
    "\n",
    "    result = {}\n",
    "    for key, value in n_dict_1.items():\n",
    "        result[key] = list(set(n_dict_2[key] + value))\n",
    "    return result\n",
    "\n",
    "def generate_child_ER(parent_1, parent_2, edge_map):\n",
    "    def filter_edge_map(edge_map, current_city):\n",
    "        for key, value in edge_map.items():\n",
    "            if current_city in value:\n",
    "                value.remove(current_city)\n",
    "                edge_map[key] = value\n",
    "        return edge_map\n",
    "\n",
    "    def find_next_city(edge_map, current_city):\n",
    "        cities = edge_map[current_city]\n",
    "        temp_dict = {key : edge_map[key] for key in cities}\n",
    "        shortest = min(len(item) for item in temp_dict.values())\n",
    "        shortest_list = [key for key, value in temp_dict.items() if len(value) == shortest] \n",
    "        return random.choice(shortest_list)\n",
    "\n",
    "    local_edge_map = edge_map.copy()\n",
    "    sequence = []\n",
    "\n",
    "    cities_1 = edge_map[parent_1[0]]\n",
    "    cities_2 = edge_map[parent_2[0]]\n",
    "    if len(cities_1) > len(cities_2):\n",
    "        current_city = parent_1[0]\n",
    "    elif len(cities_2) > len(cities_1):\n",
    "        current_city = parent_2[0]\n",
    "    else:\n",
    "        current_city = random.choice([parent_1[0], parent_2[0]])\n",
    "    sequence.append(current_city)\n",
    "    local_edge_map = filter_edge_map(local_edge_map, current_city)\n",
    "\n",
    "    for i in range(len(parent_1)-1):\n",
    "        try:\n",
    "            current_city = find_next_city(local_edge_map, current_city)\n",
    "        except:\n",
    "            current_city = random.choice(list(set(parent_1) - set(sequence)))\n",
    "        sequence.append(current_city)\n",
    "        local_edge_map = filter_edge_map(local_edge_map, current_city)\n",
    "\n",
    "    return sequence\n",
    "\n",
    "def crossover_ER(population, probability):\n",
    "    new_population = []\n",
    "    for i in range(0,len(population),2): \n",
    "        parent_1 = population[i][0] \n",
    "        parent_2 = population[i+1][0] \n",
    "\n",
    "        if random.random()<probability: \n",
    "            edge_map = create_edge_map(parent_1, parent_2)\n",
    "            child_1 = generate_child_ER(parent_1, parent_2, edge_map)\n",
    "            child_2 = generate_child_ER(parent_2, parent_1, edge_map)\n",
    "\n",
    "            new_population.append([child_1, -1])\n",
    "            new_population.append([child_2, -1])\n",
    "\n",
    "        else: \n",
    "            new_population.append([parent_1,-1])\n",
    "            new_population.append([parent_2,-1])\n",
    "\n",
    "    return new_population"
   ]
  },
  {
   "cell_type": "markdown",
   "metadata": {
    "id": "wCcw00IHEg3i"
   },
   "source": [
    "#### Edge-2"
   ]
  },
  {
   "cell_type": "code",
   "execution_count": 108,
   "metadata": {
    "executionInfo": {
     "elapsed": 344,
     "status": "ok",
     "timestamp": 1656607044931,
     "user": {
      "displayName": "Piotr Fic",
      "userId": "06214844652027951335"
     },
     "user_tz": -120
    },
    "id": "y7KF-UsekKgA"
   },
   "outputs": [],
   "source": [
    "# creating edge map (with additional mechanism preserving common subsequences)\n",
    "def create_edge_map_2(parent_1, parent_2):\n",
    "    def neighbour_list(parent):\n",
    "        n_dict = {} \n",
    "        for i in range(len(parent)-1):\n",
    "            n_dict[parent[i]] = [parent[i-1], parent[i+1]]\n",
    "        n_dict[parent[-1]] = [parent[-2], parent[0]]\n",
    "        return n_dict\n",
    "            \n",
    "    n_dict_1 = neighbour_list(parent_1)\n",
    "    n_dict_2 = neighbour_list(parent_2)\n",
    "\n",
    "    result = {}\n",
    "    for key, value in n_dict_1.items():\n",
    "        val_with_dup = n_dict_2[key] + value\n",
    "        val_without_dup = []\n",
    "        for val in val_with_dup:\n",
    "            if val in val_without_dup:\n",
    "                val_without_dup.remove(val)\n",
    "                val_without_dup.append(-abs(val))\n",
    "            else:\n",
    "                val_without_dup.append(val)\n",
    "        result[key] = val_without_dup\n",
    "    return result\n",
    "\n",
    "def generate_child_E2(parent_1, parent_2, edge_map):\n",
    "    def filter_edge_map(edge_map, current_city):\n",
    "        for key, value in edge_map.items():\n",
    "            value_abs = []\n",
    "            for item in value:\n",
    "                value_abs.append(abs(item))\n",
    "            if current_city in value_abs:\n",
    "                try:\n",
    "                    value.remove(current_city)\n",
    "                except:\n",
    "                    value.remove(-current_city)\n",
    "                edge_map[key] = value\n",
    "        return edge_map\n",
    "\n",
    "    def find_next_city(edge_map, current_city):\n",
    "        if current_city == None:\n",
    "            result = random.choice(list(set(parent_1) - set(sequence)))\n",
    "        else:\n",
    "            negative_value = []\n",
    "            for value in edge_map[current_city]:\n",
    "                if value < 0:\n",
    "                    negative_value.append(abs(value))\n",
    "            if len(negative_value) == 1 and len(edge_map[current_city]) > 1:\n",
    "                result = negative_value[0]\n",
    "            else:\n",
    "                cities_dict = {abs(key) : edge_map[abs(key)] for key in edge_map[current_city]}\n",
    "                cities_lens = [len(item) for item in cities_dict.values()]\n",
    "                if cities_lens:\n",
    "                    shortest = min(cities_lens)\n",
    "                    shortest_keys = [key for key, value in cities_dict.items() if len(value) == shortest]\n",
    "                    result = random.choice(shortest_keys)\n",
    "                else:\n",
    "                    result = random.choice(list(set(parent_1) - set(sequence)))\n",
    "        return result \n",
    "\n",
    "    local_edge_map = edge_map.copy()\n",
    "    sequence = []\n",
    "\n",
    "    current_city = random.choice(parent_1)\n",
    "    sequence.append(current_city)\n",
    "    local_edge_map = filter_edge_map(local_edge_map, current_city)\n",
    "   \n",
    "    for i in range(len(parent_1)-1): \n",
    "        current_city = find_next_city(local_edge_map, current_city)\n",
    "        sequence.append(current_city)\n",
    "        local_edge_map = filter_edge_map(local_edge_map, current_city)\n",
    "    return sequence\n",
    "\n",
    "def crossover_E2(population, probability):\n",
    "    new_population = []\n",
    "    for i in range(0,len(population),2): \n",
    "        parent_1 = population[i][0]\n",
    "        parent_2 = population[i+1][0] \n",
    "\n",
    "        if random.random()<probability: \n",
    "            edge_map = create_edge_map_2(parent_1, parent_2)\n",
    "            child_1 = generate_child_E2(parent_1, parent_2, edge_map)\n",
    "            child_2 = generate_child_E2(parent_2, parent_1, edge_map)\n",
    "\n",
    "            new_population.append([child_1, -1])\n",
    "            new_population.append([child_2, -1])\n",
    "\n",
    "        else: \n",
    "            new_population.append([parent_1,-1])\n",
    "            new_population.append([parent_2,-1])\n",
    "\n",
    "    return new_population"
   ]
  },
  {
   "cell_type": "markdown",
   "metadata": {
    "id": "G7me31n43yUd"
   },
   "source": [
    "## Optional 2-opt"
   ]
  },
  {
   "cell_type": "code",
   "execution_count": 109,
   "metadata": {
    "executionInfo": {
     "elapsed": 13,
     "status": "ok",
     "timestamp": 1656607044932,
     "user": {
      "displayName": "Piotr Fic",
      "userId": "06214844652027951335"
     },
     "user_tz": -120
    },
    "id": "r_dkbqWg3ou4"
   },
   "outputs": [],
   "source": [
    "def calculate_distance(route, cp_1, cp_2, d_matrix):\n",
    "    if cp_1 > cp_2:\n",
    "        cp_1, cp_2 = cp_2, cp_1\n",
    "    dist_1 = d_matrix[route[cp_1 - 1]][route[cp_1]]\n",
    "    dist_2 = d_matrix[route[cp_2 - 1]][route[cp_2]]\n",
    "   \n",
    "    return dist_1 + dist_2\n",
    " \n",
    "def two_opt(population, probability, d_matrix, k): \n",
    "    for individual in population:\n",
    "        if random.random() < probability:\n",
    "            route = individual[0]\n",
    "            for i in range(k):\n",
    "                for cp_1 in range(len(route) - 2):\n",
    "                    for cp_2 in range(cp_1 + 2, len(route)):\n",
    "                        old_distance = calculate_distance(route, cp_1, cp_2, d_matrix)\n",
    "                        new_route = route.copy()\n",
    "                        new_route[cp_1:cp_2] = new_route[cp_1:cp_2][::-1]\n",
    "                        new_distance = calculate_distance(new_route, cp_1, cp_2, d_matrix)\n",
    "                        if new_distance < old_distance: \n",
    "                            route = new_route\n",
    "            individual[0] = route"
   ]
  },
  {
   "cell_type": "markdown",
   "metadata": {
    "id": "obOyvyrMcUwq"
   },
   "source": [
    "## Program execution "
   ]
  },
  {
   "cell_type": "code",
   "execution_count": 110,
   "metadata": {
    "executionInfo": {
     "elapsed": 13,
     "status": "ok",
     "timestamp": 1656607044933,
     "user": {
      "displayName": "Piotr Fic",
      "userId": "06214844652027951335"
     },
     "user_tz": -120
    },
    "id": "FyDwNDsi7J7S",
    "scrolled": false
   },
   "outputs": [],
   "source": [
    "def execute_GA(\n",
    "    file_path, \n",
    "    num_of_ind, \n",
    "    num_of_iterations, \n",
    "    crossover,\n",
    "    mutation, \n",
    "    k,\n",
    "    p_m, \n",
    "    p_c,\n",
    "    p_2opt = False,\n",
    "    k_2opt = False\n",
    "    ):\n",
    "\n",
    "    # start time measurement\n",
    "    start_time = datetime.now()\n",
    "    dt_string = start_time.strftime(\"%d/%m/%Y %H:%M:%S\")\n",
    "    dt_string_short = start_time.strftime(\"%d%m%y_%H%M%S\")\n",
    "\n",
    "    matrix = calculate_distance_matrix(file_path)\n",
    "    num_of_cities = len(matrix) \n",
    "    population = initialize_population(num_of_ind, num_of_cities)\n",
    "    evaluate_population(population, matrix)\n",
    "    best_solution = the_best_solution(population)\n",
    "\n",
    "    # optional dynamic parameters\n",
    "    dynamic_p_m = False\n",
    "    if p_m == 'dynamic':\n",
    "        p_m = 0.01\n",
    "        dynamic_p_m = True\n",
    "\n",
    "    k, k_list = dynamic_params_1(k)\n",
    "    p_m, p_m_list = dynamic_params_1(p_m)\n",
    "    p_c, p_c_list = dynamic_params_1(p_c)\n",
    "\n",
    "    tsp_name = file_path.split('/')[-1].split('.')[0]\n",
    "\n",
    "    fhand = open('results/'+tsp_name+'_'+dt_string_short+'.txt', 'a')\n",
    "    fhand.write(dt_string)\n",
    "    fhand.write('\\n\\nTSP file: {}\\n'.format(tsp_name))\n",
    "    fhand.write('Population size: {}\\n'.format(num_of_ind))\n",
    "    fhand.write('Number of iterations: {}\\n'.format(num_of_iterations))\n",
    "    fhand.write('Crossover operator: {}\\n'.format(crossover))\n",
    "    fhand.write('Mutation operator: {}\\n'.format(mutation))\n",
    "    fhand.write('2-opt (p_opt/k_opt): {}/{}\\n\\n'.format(p_2opt, k_2opt))\n",
    "    fhand.write('{:>9}\\t{:>9}\\t{:>9}\\t{:>9}\\t{:>9}\\t{:>9}\\t{:>9}\\t{:>9}\\n'.format('iter', 'time', 'best_sol', \n",
    "                                                                           'avg', 'p_m', 'p_c', 'k', 'best_gen'))\n",
    "    \n",
    "    stagnation_alarm = 0\n",
    "\n",
    "    for i in range(num_of_iterations+1):\n",
    "        # selection\n",
    "        population = selection_tournament(population, k)\n",
    "\n",
    "        # cross-over\n",
    "        if crossover == 'PMX':\n",
    "            population = crossover_PMX(population, p_c) \n",
    "        elif crossover == 'OX':\n",
    "            population = crossover_OX(population, p_c) \n",
    "        elif crossover == 'CX':\n",
    "            population = crossover_CX(population, p_c)\n",
    "        elif crossover == 'ER':\n",
    "            population = crossover_ER(population, p_c)\n",
    "        elif crossover == 'E2':\n",
    "            population = crossover_E2(population, p_c)\n",
    "\n",
    "        # simple anti-stagnation mechanism\n",
    "        if dynamic_p_m and stagnation_alarm > num_of_iterations/20:\n",
    "            p_m = p_m * 1.5\n",
    "            stagnation_alarm = 0\n",
    "\n",
    "        # mutation\n",
    "        if mutation == 'IM':\n",
    "            mutation_inversion(population, p_m)\n",
    "        elif mutation == 'EM':\n",
    "            mutation_exchange(population, p_m)\n",
    "        elif mutation == 'DM':\n",
    "            mutation_displacement(population, p_m)\n",
    "        elif mutation == 'SM':\n",
    "            mutation_scramble(population, p_m)\n",
    "        elif mutation == 'SBM':\n",
    "            mutation_select_best(population, p_m, matrix)\n",
    "        elif mutation == 'SAM':\n",
    "            mutation_select_any(population, p_m, matrix)\n",
    "\n",
    "        # 2-opt\n",
    "        if p_2opt and k_2opt:\n",
    "            two_opt(population, p_2opt, matrix, k_2opt)\n",
    "\n",
    "        evaluate_population(population, matrix)\n",
    "        local_best_solution = the_best_solution(population)\n",
    "        if best_solution[1] <= local_best_solution[1]:\n",
    "            stagnation_alarm += 1\n",
    "        elif best_solution[1] > local_best_solution[1]: \n",
    "            best_solution = local_best_solution\n",
    "            stagnation_alarm = 0\n",
    "\n",
    "        if i%(num_of_iterations/100) == 0:\n",
    "            time = round((datetime.now() - start_time).total_seconds(), 2)\n",
    "            print('iter: {}, time: {}, best: {}, avg: {}'.format(i, time, best_solution[1], avg_solutions(population)))\n",
    "            fhand.write('{:>9}\\t{:>9}\\t{:>9}\\t{:>9}\\t{:>9}\\t{:>9}\\t{:>9}\\t{:>9}\\n'.format(i, time, best_solution[1], avg_solutions(population), \n",
    "                                                                                      round(p_m, 2), round(p_c, 2), k, str(best_solution[0])))\n",
    "        \n",
    "        k = dynamic_params_2(k, k_list, i, num_of_iterations, True) \n",
    "        p_m = dynamic_params_2(p_m, p_m_list, i, num_of_iterations, False)\n",
    "        p_c = dynamic_params_2(p_c, p_c_list, i, num_of_iterations, False) \n",
    "\n",
    "        if stagnation_alarm > 3000: # or time > 600:\n",
    "            break                                                               \n",
    "\n",
    "    # execution time measurement\n",
    "    td = datetime.now() - start_time\n",
    "    minutes = td.total_seconds()//60\n",
    "    seconds = td.total_seconds() - minutes*60\n",
    "    fhand.write('\\nExecution time: {:.0f} min {:.2f} sec'.format(minutes, seconds))\n",
    "    fhand.close()\n",
    "\n",
    "    # displaying the summary\n",
    "    print('TSP:', tsp_name)\n",
    "    print('cross_op = {}, mut_op = {}, p_m_end = {}, p_c_end = {}, k_end = {}'.format(\n",
    "            crossover, mutation, round(p_m, 2), round(p_c, 2), k))\n",
    "    print('Solution:', best_solution[1])\n",
    "    print('Execution time: {:.0f} min {:.2f} sec'.format(minutes, seconds))\n",
    "    print('----------')\n",
    "\n",
    "    # reset czasu\n",
    "    start_time = datetime.now()"
   ]
  },
  {
   "cell_type": "code",
   "execution_count": 111,
   "metadata": {
    "colab": {
     "base_uri": "https://localhost:8080/",
     "height": 711
    },
    "executionInfo": {
     "elapsed": 59844,
     "status": "error",
     "timestamp": 1656607104767,
     "user": {
      "displayName": "Piotr Fic",
      "userId": "06214844652027951335"
     },
     "user_tz": -120
    },
    "id": "0-ir5xItQ6Oq",
    "outputId": "15a6af35-3191-4547-c7d6-2e97e5ad146e"
   },
   "outputs": [
    {
     "name": "stdout",
     "output_type": "stream",
     "text": [
      "iter: 0, time: 0.17, best: 31825, avg: 33699\n",
      "iter: 100, time: 8.75, best: 24534, avg: 26200\n",
      "iter: 200, time: 17.71, best: 21045, avg: 22592\n",
      "iter: 300, time: 28.01, best: 20677, avg: 22793\n",
      "iter: 400, time: 41.94, best: 20677, avg: 22620\n",
      "iter: 500, time: 52.57, best: 19778, avg: 22471\n",
      "iter: 600, time: 62.87, best: 19778, avg: 22044\n",
      "iter: 700, time: 72.96, best: 19778, avg: 21243\n",
      "iter: 800, time: 84.23, best: 19778, avg: 22030\n",
      "iter: 900, time: 94.47, best: 19778, avg: 21180\n",
      "iter: 1000, time: 104.06, best: 19778, avg: 22588\n",
      "iter: 1100, time: 113.81, best: 19778, avg: 22921\n",
      "iter: 1200, time: 124.75, best: 19778, avg: 23015\n",
      "iter: 1300, time: 133.5, best: 19778, avg: 22842\n",
      "iter: 1400, time: 143.81, best: 19778, avg: 23147\n",
      "iter: 1500, time: 154.24, best: 19778, avg: 23186\n",
      "iter: 1600, time: 165.55, best: 19778, avg: 22125\n",
      "iter: 1700, time: 178.52, best: 19778, avg: 23687\n",
      "iter: 1800, time: 188.67, best: 19778, avg: 23072\n",
      "iter: 1900, time: 198.48, best: 19778, avg: 22199\n",
      "iter: 2000, time: 209.59, best: 19778, avg: 22904\n",
      "iter: 2100, time: 224.79, best: 19778, avg: 21801\n",
      "iter: 2200, time: 236.3, best: 19778, avg: 22593\n",
      "iter: 2300, time: 247.24, best: 19778, avg: 23680\n",
      "iter: 2400, time: 257.36, best: 19778, avg: 22844\n",
      "iter: 2500, time: 268.11, best: 19778, avg: 22861\n",
      "iter: 2600, time: 278.1, best: 19778, avg: 22222\n",
      "iter: 2700, time: 287.88, best: 19778, avg: 23400\n",
      "iter: 2800, time: 298.66, best: 19778, avg: 23280\n",
      "iter: 2900, time: 309.46, best: 19778, avg: 22855\n",
      "iter: 3000, time: 320.01, best: 19778, avg: 23053\n",
      "iter: 3100, time: 332.82, best: 19778, avg: 22440\n",
      "iter: 3200, time: 342.37, best: 19778, avg: 22937\n",
      "iter: 3300, time: 351.37, best: 19778, avg: 23623\n",
      "iter: 3400, time: 361.17, best: 19778, avg: 23150\n",
      "TSP: a280\n",
      "cross_op = OX, mut_op = DM, p_m_end = 0.07, p_c_end = 0.8, k_end = 3\n",
      "Solution: 19778\n",
      "Execution time: 6 min 8.69 sec\n",
      "----------\n",
      "iter: 0, time: 0.03, best: 25670, avg: 29229\n",
      "iter: 100, time: 0.93, best: 17245, avg: 20311\n",
      "iter: 200, time: 2.1, best: 15489, avg: 20561\n",
      "iter: 300, time: 3.31, best: 15489, avg: 19811\n",
      "iter: 400, time: 4.5, best: 15234, avg: 20271\n",
      "iter: 500, time: 5.78, best: 15234, avg: 19485\n",
      "iter: 600, time: 6.87, best: 15234, avg: 19784\n",
      "iter: 700, time: 7.77, best: 14575, avg: 20335\n",
      "iter: 800, time: 8.76, best: 14575, avg: 18713\n",
      "iter: 900, time: 9.66, best: 14575, avg: 19154\n",
      "iter: 1000, time: 10.52, best: 14575, avg: 18451\n",
      "iter: 1100, time: 11.41, best: 14575, avg: 20399\n",
      "iter: 1200, time: 12.59, best: 14575, avg: 19361\n",
      "iter: 1300, time: 13.75, best: 14575, avg: 19873\n",
      "iter: 1400, time: 14.79, best: 14575, avg: 20958\n",
      "iter: 1500, time: 16.0, best: 14575, avg: 20300\n",
      "iter: 1600, time: 17.05, best: 14575, avg: 20258\n",
      "iter: 1700, time: 17.95, best: 14575, avg: 19155\n",
      "iter: 1800, time: 18.82, best: 14575, avg: 19646\n",
      "iter: 1900, time: 19.7, best: 14575, avg: 19045\n",
      "iter: 2000, time: 20.59, best: 14575, avg: 20578\n",
      "iter: 2100, time: 21.44, best: 14575, avg: 19978\n",
      "iter: 2200, time: 22.37, best: 14575, avg: 20804\n",
      "iter: 2300, time: 23.3, best: 14575, avg: 20309\n",
      "iter: 2400, time: 24.25, best: 14575, avg: 21263\n",
      "iter: 2500, time: 25.12, best: 14575, avg: 19871\n",
      "iter: 2600, time: 26.13, best: 14575, avg: 20841\n",
      "iter: 2700, time: 27.09, best: 14575, avg: 20774\n",
      "iter: 2800, time: 28.0, best: 14575, avg: 21040\n",
      "iter: 2900, time: 28.96, best: 14575, avg: 19884\n",
      "iter: 3000, time: 29.97, best: 14575, avg: 20284\n",
      "iter: 3100, time: 30.86, best: 14575, avg: 20154\n",
      "iter: 3200, time: 31.79, best: 14575, avg: 20984\n",
      "iter: 3300, time: 32.83, best: 14575, avg: 19505\n",
      "iter: 3400, time: 33.8, best: 14575, avg: 20641\n",
      "iter: 3500, time: 34.67, best: 14575, avg: 20541\n",
      "iter: 3600, time: 35.71, best: 14575, avg: 19832\n",
      "TSP: berlin52\n",
      "cross_op = OX, mut_op = DM, p_m_end = 0.07, p_c_end = 0.8, k_end = 3\n",
      "Solution: 14575\n",
      "Execution time: 0 min 36.21 sec\n",
      "----------\n",
      "iter: 0, time: 0.1, best: 46765, avg: 52614\n",
      "iter: 100, time: 3.62, best: 37052, avg: 40283\n",
      "iter: 200, time: 8.75, best: 32697, avg: 36736\n",
      "iter: 300, time: 12.62, best: 32697, avg: 39351\n",
      "iter: 400, time: 16.04, best: 32697, avg: 38193\n",
      "iter: 500, time: 19.9, best: 32697, avg: 36616\n",
      "iter: 600, time: 23.4, best: 32520, avg: 36432\n",
      "iter: 700, time: 26.88, best: 31824, avg: 35463\n",
      "iter: 800, time: 30.53, best: 31824, avg: 35573\n",
      "iter: 900, time: 36.49, best: 31824, avg: 37138\n",
      "iter: 1000, time: 41.62, best: 31824, avg: 36716\n",
      "iter: 1100, time: 46.38, best: 31824, avg: 36424\n",
      "iter: 1200, time: 53.9, best: 31824, avg: 38508\n",
      "iter: 1300, time: 57.92, best: 31824, avg: 37369\n",
      "iter: 1400, time: 62.21, best: 31824, avg: 37615\n",
      "iter: 1500, time: 66.33, best: 31824, avg: 38511\n",
      "iter: 1600, time: 70.09, best: 31824, avg: 36959\n",
      "iter: 1700, time: 74.57, best: 31824, avg: 39228\n",
      "iter: 1800, time: 78.89, best: 31824, avg: 36094\n",
      "iter: 1900, time: 83.13, best: 31824, avg: 39088\n",
      "iter: 2000, time: 87.11, best: 31824, avg: 37973\n",
      "iter: 2100, time: 91.1, best: 31824, avg: 37335\n",
      "iter: 2200, time: 95.31, best: 31824, avg: 38092\n",
      "iter: 2300, time: 99.4, best: 31824, avg: 40511\n",
      "iter: 2400, time: 103.58, best: 31824, avg: 37270\n",
      "iter: 2500, time: 108.05, best: 31824, avg: 35933\n",
      "iter: 2600, time: 111.92, best: 31824, avg: 38030\n",
      "iter: 2700, time: 115.51, best: 31824, avg: 37989\n",
      "iter: 2800, time: 119.28, best: 31824, avg: 39082\n",
      "iter: 2900, time: 123.53, best: 31824, avg: 38640\n",
      "iter: 3000, time: 128.02, best: 31824, avg: 37493\n",
      "iter: 3100, time: 132.24, best: 31824, avg: 37806\n",
      "iter: 3200, time: 136.88, best: 31824, avg: 36969\n",
      "iter: 3300, time: 141.37, best: 31824, avg: 38157\n",
      "iter: 3400, time: 145.5, best: 31824, avg: 38304\n",
      "iter: 3500, time: 149.18, best: 31824, avg: 37427\n",
      "iter: 3600, time: 153.41, best: 31824, avg: 37475\n",
      "TSP: ch150\n",
      "cross_op = OX, mut_op = DM, p_m_end = 0.07, p_c_end = 0.8, k_end = 3\n",
      "Solution: 31824\n",
      "Execution time: 2 min 37.01 sec\n",
      "----------\n"
     ]
    }
   ],
   "source": [
    "path_name = 'data/matrices/'\n",
    "file_names = [fname for fname in os.listdir(path_name) if os.path.isfile(os.path.join(path_name, fname))]\n",
    "\n",
    "for fname in file_names:\n",
    "    execute_GA(\n",
    "        file_path = path_name + fname,\n",
    "        num_of_ind = 100, \n",
    "        num_of_iterations = 10000,\n",
    "        crossover = 'OX',\n",
    "        mutation = 'DM',\n",
    "        k = 3, # selection pressure\n",
    "        p_m = [0, 0.2], # mutation probability\n",
    "        p_c = 0.8, # cross-over probability\n",
    "        # optional 2-opt params\n",
    "        # p_2opt = 0.005, \n",
    "        # k_2opt = 1\n",
    "    )"
   ]
  }
 ],
 "metadata": {
  "colab": {
   "collapsed_sections": [],
   "name": "GA_TSP.ipynb",
   "provenance": []
  },
  "kernelspec": {
   "display_name": "Python 3 (ipykernel)",
   "language": "python",
   "name": "python3"
  },
  "language_info": {
   "codemirror_mode": {
    "name": "ipython",
    "version": 3
   },
   "file_extension": ".py",
   "mimetype": "text/x-python",
   "name": "python",
   "nbconvert_exporter": "python",
   "pygments_lexer": "ipython3",
   "version": "3.8.8"
  }
 },
 "nbformat": 4,
 "nbformat_minor": 1
}
